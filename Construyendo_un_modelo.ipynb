{
  "nbformat": 4,
  "nbformat_minor": 0,
  "metadata": {
    "colab": {
      "name": "Construyendo_un_modelo.ipynb",
      "provenance": [],
      "collapsed_sections": [
        "i-DCvZY2TEBf",
        "zCyzCKmykNmi"
      ]
    },
    "kernelspec": {
      "name": "python3",
      "display_name": "Python 3"
    }
  },
  "cells": [
    {
      "cell_type": "code",
      "metadata": {
        "id": "fcCIolXzRiXP",
        "colab_type": "code",
        "colab": {}
      },
      "source": [
        "import torch\n",
        "import torch.nn as nn\n",
        "import torch.optim as optim\n",
        "\n",
        "from torchvision import utils, datasets, transforms\n",
        "\n",
        "from PIL import Image\n",
        "import urllib.request as request\n",
        "import matplotlib.pyplot as plt"
      ],
      "execution_count": 0,
      "outputs": []
    },
    {
      "cell_type": "markdown",
      "metadata": {
        "id": "i-DCvZY2TEBf",
        "colab_type": "text"
      },
      "source": [
        "# **Construyendo un modelo**\n",
        "\n",
        "---\n",
        "\n"
      ]
    },
    {
      "cell_type": "code",
      "metadata": {
        "id": "ESEq-6lgUbpb",
        "colab_type": "code",
        "outputId": "7cb37de3-1093-4db2-d1bf-351d14df4eac",
        "colab": {
          "base_uri": "https://localhost:8080/",
          "height": 51
        }
      },
      "source": [
        "data_path = 'data/'\n",
        "full_data_set = datasets.CIFAR10(data_path, train=True, download=True, transform=transforms.Compose([\n",
        "                                                                  transforms.ToTensor(),\n",
        "                                                                  transforms.Normalize((0.4915, 0.4823, 0.4468),(0.2470, 0.2435, 0.2616))\n",
        "]))\n",
        "\n",
        "full_validation_set = datasets.CIFAR10(data_path, train=False, download=True, transform=transforms.Compose([\n",
        "                                                                  transforms.ToTensor(),\n",
        "                                                                  transforms.Normalize((0.4915, 0.4823, 0.4468),(0.2470, 0.2435, 0.2616))\n",
        "]))"
      ],
      "execution_count": 0,
      "outputs": [
        {
          "output_type": "stream",
          "text": [
            "Files already downloaded and verified\n",
            "Files already downloaded and verified\n"
          ],
          "name": "stdout"
        }
      ]
    },
    {
      "cell_type": "code",
      "metadata": {
        "id": "fONoM-H9VkI9",
        "colab_type": "code",
        "colab": {}
      },
      "source": [
        "size = 4\n",
        "data_loader = torch.utils.data.DataLoader(full_data_set, batch_size=size, shuffle=True, num_workers=2)"
      ],
      "execution_count": 0,
      "outputs": []
    },
    {
      "cell_type": "code",
      "metadata": {
        "id": "OTB4ZTx3Wf5v",
        "colab_type": "code",
        "colab": {}
      },
      "source": [
        "data_iterator = iter(data_loader)"
      ],
      "execution_count": 0,
      "outputs": []
    },
    {
      "cell_type": "code",
      "metadata": {
        "id": "X4W-PWAYW7gq",
        "colab_type": "code",
        "outputId": "52fdd289-d11d-49c1-c96f-13324a7a419c",
        "colab": {
          "base_uri": "https://localhost:8080/",
          "height": 223
        }
      },
      "source": [
        "imgs, labels = data_iterator.next()\n",
        "\n",
        "classes = ['plane','car','bird','cat','deer','dog','frog','horse','ship','truck']\n",
        "\n",
        "plt.imshow(utils.make_grid(imgs).permute(1, 2, 0)) #Muestra la imagen en grilla\n",
        "\n",
        "for i in range(size):\n",
        "  print(classes[labels[i]]) #imprime el nombre de las etiquetas en el batch actual"
      ],
      "execution_count": 0,
      "outputs": [
        {
          "output_type": "stream",
          "text": [
            "Clipping input data to the valid range for imshow with RGB data ([0..1] for floats or [0..255] for integers).\n"
          ],
          "name": "stderr"
        },
        {
          "output_type": "stream",
          "text": [
            "truck\n",
            "truck\n",
            "frog\n",
            "bird\n"
          ],
          "name": "stdout"
        },
        {
          "output_type": "display_data",
          "data": {
            "image/png": "[encoded data removed]",
            "text/plain": [
              "<Figure size 432x288 with 1 Axes>"
            ]
          },
          "metadata": {
            "tags": []
          }
        }
      ]
    },
    {
      "cell_type": "code",
      "metadata": {
        "id": "GWiWrmrddK8o",
        "colab_type": "code",
        "colab": {}
      },
      "source": [
        "class_names = ['car', 'cat']\n",
        "label_map = {1:0, 3:1}\n",
        "\n",
        "data_set = [(img, label_map[label]) for img, label in full_data_set if label in [1, 3]]\n",
        "validation_set = [(img, label_map[label]) for img, label in full_validation_set if label in [1, 3]]"
      ],
      "execution_count": 0,
      "outputs": []
    },
    {
      "cell_type": "code",
      "metadata": {
        "id": "yYZpEsU0d0e1",
        "colab_type": "code",
        "outputId": "cf539c6a-6c42-434a-c17e-49d55c5b557a",
        "colab": {
          "base_uri": "https://localhost:8080/",
          "height": 34
        }
      },
      "source": [
        "img, label = data_set[1234]\n",
        "img.shape, label"
      ],
      "execution_count": 0,
      "outputs": [
        {
          "output_type": "execute_result",
          "data": {
            "text/plain": [
              "(torch.Size([3, 32, 32]), 0)"
            ]
          },
          "metadata": {
            "tags": []
          },
          "execution_count": 50
        }
      ]
    },
    {
      "cell_type": "code",
      "metadata": {
        "id": "VM92D_VtedCD",
        "colab_type": "code",
        "colab": {}
      },
      "source": [
        "# Modelo\n",
        "model = nn.Sequential(\n",
        "    nn.Linear(3 * 32 * 32, 512),\n",
        "    nn.Tanh(),\n",
        "    nn.Linear(512, 2)\n",
        ")"
      ],
      "execution_count": 0,
      "outputs": []
    },
    {
      "cell_type": "code",
      "metadata": {
        "id": "t5uI7kQZgj5s",
        "colab_type": "code",
        "colab": {}
      },
      "source": [
        "# Softmax function\n",
        "def softmax(x):\n",
        "  return torch.exp(x) / torch.exp(x).sum()"
      ],
      "execution_count": 0,
      "outputs": []
    },
    {
      "cell_type": "code",
      "metadata": {
        "id": "VDdJBsX1hGJ1",
        "colab_type": "code",
        "outputId": "76e214a5-cce8-4369-a730-153d51dfa23a",
        "colab": {
          "base_uri": "https://localhost:8080/",
          "height": 34
        }
      },
      "source": [
        "x = torch.tensor([1.0, 2.0, 3.0])\n",
        "softmax(x).sum()"
      ],
      "execution_count": 0,
      "outputs": [
        {
          "output_type": "execute_result",
          "data": {
            "text/plain": [
              "tensor(1.)"
            ]
          },
          "metadata": {
            "tags": []
          },
          "execution_count": 53
        }
      ]
    },
    {
      "cell_type": "code",
      "metadata": {
        "id": "_4NWLRDWhMol",
        "colab_type": "code",
        "colab": {}
      },
      "source": [
        "# Modelo con softmax\n",
        "model = nn.Sequential(\n",
        "    nn.Linear(3 * 32 * 32, 512),\n",
        "    nn.Tanh(),\n",
        "    nn.Linear(512, 2),\n",
        "    nn.Softmax(dim=1)\n",
        ")"
      ],
      "execution_count": 0,
      "outputs": []
    },
    {
      "cell_type": "code",
      "metadata": {
        "id": "-yI4I20fh1NL",
        "colab_type": "code",
        "outputId": "4ecfd21e-256b-4ae6-893e-cf5e67adbabe",
        "colab": {
          "base_uri": "https://localhost:8080/",
          "height": 300
        }
      },
      "source": [
        "img, label = data_set[20]\n",
        "plt.imshow(img.permute(1, 2, 0))\n",
        "\n",
        "class_names[label]"
      ],
      "execution_count": 0,
      "outputs": [
        {
          "output_type": "stream",
          "text": [
            "Clipping input data to the valid range for imshow with RGB data ([0..1] for floats or [0..255] for integers).\n"
          ],
          "name": "stderr"
        },
        {
          "output_type": "execute_result",
          "data": {
            "text/plain": [
              "'car'"
            ]
          },
          "metadata": {
            "tags": []
          },
          "execution_count": 55
        },
        {
          "output_type": "display_data",
          "data": {
            "image/png": "[encoded data removed]",
            "text/plain": [
              "<Figure size 432x288 with 1 Axes>"
            ]
          },
          "metadata": {
            "tags": []
          }
        }
      ]
    },
    {
      "cell_type": "code",
      "metadata": {
        "id": "X1U7CW-RiHAp",
        "colab_type": "code",
        "outputId": "9b654202-6fb6-4e5d-bf9b-d08f056bc5f3",
        "colab": {
          "base_uri": "https://localhost:8080/",
          "height": 34
        }
      },
      "source": [
        "out = model(img.view(-1).unsqueeze(0))\n",
        "out"
      ],
      "execution_count": 0,
      "outputs": [
        {
          "output_type": "execute_result",
          "data": {
            "text/plain": [
              "tensor([[0.4097, 0.5903]], grad_fn=<SoftmaxBackward>)"
            ]
          },
          "metadata": {
            "tags": []
          },
          "execution_count": 56
        }
      ]
    },
    {
      "cell_type": "code",
      "metadata": {
        "id": "HwGrjleHiiPg",
        "colab_type": "code",
        "outputId": "745c48bc-e009-4671-fa4f-2add00ea13b4",
        "colab": {
          "base_uri": "https://localhost:8080/",
          "height": 34
        }
      },
      "source": [
        "_, index = torch.max(out, dim=1)\n",
        "print('->', class_names[label], ' Model:', class_names[index])"
      ],
      "execution_count": 0,
      "outputs": [
        {
          "output_type": "stream",
          "text": [
            "-> car  Model: cat\n"
          ],
          "name": "stdout"
        }
      ]
    },
    {
      "cell_type": "markdown",
      "metadata": {
        "id": "zCyzCKmykNmi",
        "colab_type": "text"
      },
      "source": [
        "# **Implementando un clasificador totalmente conectado**\n",
        "\n",
        "---\n",
        "\n"
      ]
    },
    {
      "cell_type": "code",
      "metadata": {
        "id": "hHU1TIUsjbth",
        "colab_type": "code",
        "colab": {}
      },
      "source": [
        "# Model with Log Softmax\n",
        "model = nn.Sequential(\n",
        "    nn.Linear(32 * 32 * 3, 512),\n",
        "    nn.Tanh(),\n",
        "    nn.Linear(512, 2),\n",
        "    nn.LogSoftmax(dim=1)\n",
        ")\n",
        "loss_function = nn.NLLLoss()"
      ],
      "execution_count": 0,
      "outputs": []
    },
    {
      "cell_type": "code",
      "metadata": {
        "id": "6HKefZSNlTD_",
        "colab_type": "code",
        "outputId": "409703cb-9887-4a4b-89c4-b62a63876658",
        "colab": {
          "base_uri": "https://localhost:8080/",
          "height": 300
        }
      },
      "source": [
        "img, label = data_set[20]\n",
        "plt.imshow(img.permute(1, 2, 0))\n",
        "\n",
        "class_names[label]"
      ],
      "execution_count": 0,
      "outputs": [
        {
          "output_type": "stream",
          "text": [
            "Clipping input data to the valid range for imshow with RGB data ([0..1] for floats or [0..255] for integers).\n"
          ],
          "name": "stderr"
        },
        {
          "output_type": "execute_result",
          "data": {
            "text/plain": [
              "'car'"
            ]
          },
          "metadata": {
            "tags": []
          },
          "execution_count": 59
        },
        {
          "output_type": "display_data",
          "data": {
            "image/png": "[encoded data removed]",
            "text/plain": [
              "<Figure size 432x288 with 1 Axes>"
            ]
          },
          "metadata": {
            "tags": []
          }
        }
      ]
    },
    {
      "cell_type": "code",
      "metadata": {
        "id": "YrThdZ-elzzJ",
        "colab_type": "code",
        "outputId": "c86358ef-24e0-410c-eb81-66fadc33bec0",
        "colab": {
          "base_uri": "https://localhost:8080/",
          "height": 51
        }
      },
      "source": [
        "out = model(img.view(-1).unsqueeze(0))\n",
        "print(out)\n",
        "\n",
        "_, index = torch.max(out, dim=1)\n",
        "print('->', class_names[label], ' Model:', class_names[index])"
      ],
      "execution_count": 0,
      "outputs": [
        {
          "output_type": "stream",
          "text": [
            "tensor([[-0.6820, -0.7044]], grad_fn=<LogSoftmaxBackward>)\n",
            "-> car  Model: car\n"
          ],
          "name": "stdout"
        }
      ]
    },
    {
      "cell_type": "code",
      "metadata": {
        "id": "bAyruYVGl5lI",
        "colab_type": "code",
        "outputId": "8c3b3986-5573-417f-8402-aa7de7c248ba",
        "colab": {
          "base_uri": "https://localhost:8080/",
          "height": 102
        }
      },
      "source": [
        "model = nn.Sequential(\n",
        "    nn.Linear(32 * 32 * 3, 512),\n",
        "    nn.Tanh(),\n",
        "    nn.Linear(512, 2),\n",
        "    nn.LogSoftmax(dim=1)\n",
        ") # Last model\n",
        "loss_function = nn.NLLLoss()\n",
        "optimizer = optim.SGD(model.parameters(), lr=0.01)\n",
        "\n",
        "n_epochs = 5 # Iteraciones\n",
        "\n",
        "# Training\n",
        "for epoch in range(n_epochs):\n",
        "  for img, label in data_set:\n",
        "    out = model(img.view(-1).unsqueeze(0))\n",
        "    loss = loss_function(out, torch.tensor([label]))\n",
        "\n",
        "    optimizer.zero_grad()\n",
        "    loss.backward()\n",
        "    optimizer.step()\n",
        "  print('Epoch: {}, Loss:{}'.format(epoch, float(loss)))\n"
      ],
      "execution_count": 0,
      "outputs": [
        {
          "output_type": "stream",
          "text": [
            "Epoch: 0, Loss:0.001050040009431541\n",
            "Epoch: 1, Loss:0.006953682750463486\n",
            "Epoch: 2, Loss:0.04678585007786751\n",
            "Epoch: 3, Loss:0.3917507231235504\n",
            "Epoch: 4, Loss:6.089066028594971\n"
          ],
          "name": "stdout"
        }
      ]
    },
    {
      "cell_type": "code",
      "metadata": {
        "id": "c3x797ngqDQL",
        "colab_type": "code",
        "outputId": "90894117-d361-4608-a281-d527140f5b04",
        "colab": {
          "base_uri": "https://localhost:8080/",
          "height": 1000
        }
      },
      "source": [
        "# Usa DataLoader para hacer mas rapido el entrenamiento\n",
        "train_loader= torch.utils.data.DataLoader(data_set, batch_size=64, shuffle=True)\n",
        "\n",
        "model = nn.Sequential(\n",
        "    nn.Linear(32 * 32 * 3, 512),\n",
        "    nn.Tanh(),\n",
        "    nn.Linear(512, 2),\n",
        "    nn.LogSoftmax(dim=1)\n",
        ") # Last model\n",
        "loss_function = nn.NLLLoss()\n",
        "optimizer = optim.SGD(model.parameters(), lr=0.01)\n",
        "\n",
        "n_epochs = 100 # Iteraciones\n",
        "\n",
        "# Training\n",
        "for epoch in range(n_epochs):\n",
        "  for img, label in train_loader:\n",
        "    out = model(img.view(img.shape[0], -1))\n",
        "    loss = loss_function(out, label)\n",
        "\n",
        "    optimizer.zero_grad()\n",
        "    loss.backward()\n",
        "    optimizer.step()\n",
        "  print('Epoch: {}, Loss:{}'.format(epoch, float(loss)))\n"
      ],
      "execution_count": 0,
      "outputs": [
        {
          "output_type": "stream",
          "text": [
            "Epoch: 0, Loss:0.30932873487472534\n",
            "Epoch: 1, Loss:0.4098937511444092\n",
            "Epoch: 2, Loss:0.2752927541732788\n",
            "Epoch: 3, Loss:0.5303469896316528\n",
            "Epoch: 4, Loss:0.33092740178108215\n",
            "Epoch: 5, Loss:0.2980993390083313\n",
            "Epoch: 6, Loss:0.42722833156585693\n",
            "Epoch: 7, Loss:0.43497875332832336\n",
            "Epoch: 8, Loss:0.17621245980262756\n",
            "Epoch: 9, Loss:0.30256474018096924\n",
            "Epoch: 10, Loss:0.24510641396045685\n",
            "Epoch: 11, Loss:0.2362159788608551\n",
            "Epoch: 12, Loss:0.15185938775539398\n",
            "Epoch: 13, Loss:0.36662521958351135\n",
            "Epoch: 14, Loss:0.14473170042037964\n",
            "Epoch: 15, Loss:0.20841947197914124\n",
            "Epoch: 16, Loss:0.2535763084888458\n",
            "Epoch: 17, Loss:0.24845129251480103\n",
            "Epoch: 18, Loss:0.1442098170518875\n",
            "Epoch: 19, Loss:0.08082128316164017\n",
            "Epoch: 20, Loss:0.2101898044347763\n",
            "Epoch: 21, Loss:0.23310373723506927\n",
            "Epoch: 22, Loss:0.10892468690872192\n",
            "Epoch: 23, Loss:0.057365432381629944\n",
            "Epoch: 24, Loss:0.5519776344299316\n",
            "Epoch: 25, Loss:0.13330385088920593\n",
            "Epoch: 26, Loss:0.05027268826961517\n",
            "Epoch: 27, Loss:0.049759525805711746\n",
            "Epoch: 28, Loss:0.08607430756092072\n",
            "Epoch: 29, Loss:0.08406636863946915\n",
            "Epoch: 30, Loss:0.06205882132053375\n",
            "Epoch: 31, Loss:0.09081700444221497\n",
            "Epoch: 32, Loss:0.029277902096509933\n",
            "Epoch: 33, Loss:0.08566846698522568\n",
            "Epoch: 34, Loss:0.28552010655403137\n",
            "Epoch: 35, Loss:0.042489513754844666\n",
            "Epoch: 36, Loss:0.018401987850666046\n",
            "Epoch: 37, Loss:0.04688680171966553\n",
            "Epoch: 38, Loss:0.08111931383609772\n",
            "Epoch: 39, Loss:0.0762408971786499\n",
            "Epoch: 40, Loss:0.06315436214208603\n",
            "Epoch: 41, Loss:0.03966846317052841\n",
            "Epoch: 42, Loss:0.03605853393673897\n",
            "Epoch: 43, Loss:0.06501752138137817\n",
            "Epoch: 44, Loss:0.10111096501350403\n",
            "Epoch: 45, Loss:0.034346338361501694\n",
            "Epoch: 46, Loss:0.017964595928788185\n",
            "Epoch: 47, Loss:0.043466709554195404\n",
            "Epoch: 48, Loss:0.024834971874952316\n",
            "Epoch: 49, Loss:0.03115003928542137\n",
            "Epoch: 50, Loss:0.03515894338488579\n",
            "Epoch: 51, Loss:0.019927995279431343\n",
            "Epoch: 52, Loss:0.024449152871966362\n",
            "Epoch: 53, Loss:0.025038450956344604\n",
            "Epoch: 54, Loss:0.006782406475394964\n",
            "Epoch: 55, Loss:0.0912548154592514\n",
            "Epoch: 56, Loss:0.011226344853639603\n",
            "Epoch: 57, Loss:0.018182210624217987\n",
            "Epoch: 58, Loss:0.014365386217832565\n",
            "Epoch: 59, Loss:0.01252055075019598\n",
            "Epoch: 60, Loss:0.012742615304887295\n",
            "Epoch: 61, Loss:0.022647587582468987\n",
            "Epoch: 62, Loss:0.01659390516579151\n",
            "Epoch: 63, Loss:0.026719925925135612\n",
            "Epoch: 64, Loss:0.007793692406266928\n",
            "Epoch: 65, Loss:0.013389868661761284\n",
            "Epoch: 66, Loss:0.014882928691804409\n",
            "Epoch: 67, Loss:0.015295987948775291\n",
            "Epoch: 68, Loss:0.004016083665192127\n",
            "Epoch: 69, Loss:0.00661435816437006\n",
            "Epoch: 70, Loss:0.005310020875185728\n",
            "Epoch: 71, Loss:0.013687209226191044\n",
            "Epoch: 72, Loss:0.010455946438014507\n",
            "Epoch: 73, Loss:0.012877928093075752\n",
            "Epoch: 74, Loss:0.006133485119789839\n",
            "Epoch: 75, Loss:0.01508317980915308\n",
            "Epoch: 76, Loss:0.007140420377254486\n",
            "Epoch: 77, Loss:0.010270641185343266\n",
            "Epoch: 78, Loss:0.00705315638333559\n",
            "Epoch: 79, Loss:0.01334153488278389\n",
            "Epoch: 80, Loss:0.005879085045307875\n",
            "Epoch: 81, Loss:0.014553681015968323\n",
            "Epoch: 82, Loss:0.004140446428209543\n",
            "Epoch: 83, Loss:0.008590057492256165\n",
            "Epoch: 84, Loss:0.011199402622878551\n",
            "Epoch: 85, Loss:0.01324679795652628\n",
            "Epoch: 86, Loss:0.009763823822140694\n",
            "Epoch: 87, Loss:0.006480234209448099\n",
            "Epoch: 88, Loss:0.004478005226701498\n",
            "Epoch: 89, Loss:0.00997572485357523\n",
            "Epoch: 90, Loss:0.006550941150635481\n",
            "Epoch: 91, Loss:0.007472934201359749\n",
            "Epoch: 92, Loss:0.01166420616209507\n",
            "Epoch: 93, Loss:0.005002584774047136\n",
            "Epoch: 94, Loss:0.0030495161190629005\n",
            "Epoch: 95, Loss:0.0052185277454555035\n",
            "Epoch: 96, Loss:0.0042566233314573765\n",
            "Epoch: 97, Loss:0.011470427736639977\n",
            "Epoch: 98, Loss:0.0037745132576674223\n",
            "Epoch: 99, Loss:0.0037624977994710207\n"
          ],
          "name": "stdout"
        }
      ]
    },
    {
      "cell_type": "code",
      "metadata": {
        "id": "mapWGVLIudMW",
        "colab_type": "code",
        "outputId": "f28763db-0e72-47ed-be8c-96c915b3c829",
        "colab": {
          "base_uri": "https://localhost:8080/",
          "height": 51
        }
      },
      "source": [
        "val_loader = torch.utils.data.DataLoader(validation_set, batch_size=64, shuffle=False)\n",
        "\n",
        "correct = 0\n",
        "total = -0\n",
        "\n",
        "with torch.no_grad():\n",
        "  for imgs, labels in val_loader:\n",
        "    outputs = model(imgs.view(imgs.shape[0], -1))\n",
        "    _, predicted = torch.max(outputs, dim=1)\n",
        "    total += labels.shape[0]\n",
        "\n",
        "    correct += int((predicted == labels).sum())\n",
        "\n",
        "print('Correct:', correct, 'Total:', total)\n",
        "print('Accuracy:', correct/total)"
      ],
      "execution_count": 0,
      "outputs": [
        {
          "output_type": "stream",
          "text": [
            "Correct: 1741 Total: 2000\n",
            "Accuracy: 0.8705\n"
          ],
          "name": "stdout"
        }
      ]
    },
    {
      "cell_type": "code",
      "metadata": {
        "id": "aymObo0Yx3Oy",
        "colab_type": "code",
        "outputId": "4290e06d-9ae0-4832-ec66-7a0d46fa1b16",
        "colab": {
          "base_uri": "https://localhost:8080/",
          "height": 300
        }
      },
      "source": [
        "img, label = validation_set[20]\n",
        "out = model(img.view(-1).unsqueeze(0))\n",
        "_, index = torch.max(out, dim=1)\n",
        "\n",
        "print('->: ',class_names[label],' model:',class_names[index])\n",
        "plt.imshow(img.permute(1, 2, 0))\n",
        "plt.show()"
      ],
      "execution_count": 0,
      "outputs": [
        {
          "output_type": "stream",
          "text": [
            "Clipping input data to the valid range for imshow with RGB data ([0..1] for floats or [0..255] for integers).\n"
          ],
          "name": "stderr"
        },
        {
          "output_type": "stream",
          "text": [
            "->:  car  model: car\n"
          ],
          "name": "stdout"
        },
        {
          "output_type": "display_data",
          "data": {
            "image/png": "[encoded data removed]",
            "text/plain": [
              "<Figure size 432x288 with 1 Axes>"
            ]
          },
          "metadata": {
            "tags": []
          }
        }
      ]
    },
    {
      "cell_type": "markdown",
      "metadata": {
        "id": "CPkhz6Eqye34",
        "colab_type": "text"
      },
      "source": [
        "# **Mejoras, limitaciones y conclusiones**\n",
        "\n",
        "---\n",
        "\n"
      ]
    },
    {
      "cell_type": "code",
      "metadata": {
        "id": "TwY3sUZWyO06",
        "colab_type": "code",
        "outputId": "a8161059-0d6d-4eea-b773-8ed8f6cb536b",
        "colab": {
          "base_uri": "https://localhost:8080/",
          "height": 1000
        }
      },
      "source": [
        "train_loader = torch.utils.data.DataLoader(data_set, batch_size=64, shuffle=True)\n",
        "\n",
        "model = nn.Sequential(\n",
        "            nn.Linear(3072, 1024),\n",
        "            nn.Tanh(),\n",
        "            nn.Linear(1024, 512),\n",
        "            nn.Tanh(),\n",
        "            nn.Linear(512, 128),\n",
        "            nn.Tanh(),\n",
        "            nn.Linear(128, 2))\n",
        "\n",
        "optimizer = optim.SGD(model.parameters(), lr=0.01)\n",
        "\n",
        "loss_fn = nn.CrossEntropyLoss()\n",
        "\n",
        "n_epochs = 100\n",
        "\n",
        "for epoch in range(n_epochs):\n",
        "    for imgs, labels in train_loader:\n",
        "        outputs = model(imgs.view(imgs.shape[0], -1))\n",
        "        loss = loss_fn(outputs, labels)\n",
        "\n",
        "        optimizer.zero_grad()\n",
        "        loss.backward()\n",
        "        optimizer.step()\n",
        "\n",
        "    print(\"Epoch: {}, Loss: {}\".format(epoch, float(loss)))"
      ],
      "execution_count": 0,
      "outputs": [
        {
          "output_type": "stream",
          "text": [
            "Epoch: 0, Loss: 0.4991365671157837\n",
            "Epoch: 1, Loss: 0.3955062925815582\n",
            "Epoch: 2, Loss: 0.45206359028816223\n",
            "Epoch: 3, Loss: 0.2042885571718216\n",
            "Epoch: 4, Loss: 0.2839258313179016\n",
            "Epoch: 5, Loss: 0.30679506063461304\n",
            "Epoch: 6, Loss: 0.31786638498306274\n",
            "Epoch: 7, Loss: 0.2815028727054596\n",
            "Epoch: 8, Loss: 0.18630477786064148\n",
            "Epoch: 9, Loss: 0.5357047319412231\n",
            "Epoch: 10, Loss: 0.22224998474121094\n",
            "Epoch: 11, Loss: 0.2289549857378006\n",
            "Epoch: 12, Loss: 0.307110995054245\n",
            "Epoch: 13, Loss: 0.3317302167415619\n",
            "Epoch: 14, Loss: 0.2092413306236267\n",
            "Epoch: 15, Loss: 0.3120642602443695\n",
            "Epoch: 16, Loss: 0.2862047851085663\n",
            "Epoch: 17, Loss: 0.29699981212615967\n",
            "Epoch: 18, Loss: 0.07151670008897781\n",
            "Epoch: 19, Loss: 0.1784643977880478\n",
            "Epoch: 20, Loss: 0.3939531445503235\n",
            "Epoch: 21, Loss: 0.33506688475608826\n",
            "Epoch: 22, Loss: 0.11235979199409485\n",
            "Epoch: 23, Loss: 0.10486077517271042\n",
            "Epoch: 24, Loss: 0.07082542777061462\n",
            "Epoch: 25, Loss: 0.02770421653985977\n",
            "Epoch: 26, Loss: 0.28067174553871155\n",
            "Epoch: 27, Loss: 0.05545737221837044\n",
            "Epoch: 28, Loss: 0.049228060990571976\n",
            "Epoch: 29, Loss: 0.04762114956974983\n",
            "Epoch: 30, Loss: 0.029798943549394608\n",
            "Epoch: 31, Loss: 0.01535752322524786\n",
            "Epoch: 32, Loss: 0.014705978333950043\n",
            "Epoch: 33, Loss: 0.07097598165273666\n",
            "Epoch: 34, Loss: 0.02499859407544136\n",
            "Epoch: 35, Loss: 0.16909700632095337\n",
            "Epoch: 36, Loss: 0.01426332164555788\n",
            "Epoch: 37, Loss: 0.01931336708366871\n",
            "Epoch: 38, Loss: 0.008964026346802711\n",
            "Epoch: 39, Loss: 0.004655922297388315\n",
            "Epoch: 40, Loss: 0.007767172995954752\n",
            "Epoch: 41, Loss: 0.0023584000300616026\n",
            "Epoch: 42, Loss: 0.003012656467035413\n",
            "Epoch: 43, Loss: 0.0025477202143520117\n",
            "Epoch: 44, Loss: 0.005587185267359018\n",
            "Epoch: 45, Loss: 0.0016489941626787186\n",
            "Epoch: 46, Loss: 0.0014926197472959757\n",
            "Epoch: 47, Loss: 0.0017073806375265121\n",
            "Epoch: 48, Loss: 0.004728188272565603\n",
            "Epoch: 49, Loss: 0.00392896356061101\n",
            "Epoch: 50, Loss: 0.0054719108156859875\n",
            "Epoch: 51, Loss: 0.001775264972820878\n",
            "Epoch: 52, Loss: 0.001082053640857339\n",
            "Epoch: 53, Loss: 0.0010568125871941447\n",
            "Epoch: 54, Loss: 0.0011243252083659172\n",
            "Epoch: 55, Loss: 0.0019621793180704117\n",
            "Epoch: 56, Loss: 0.003642698284238577\n",
            "Epoch: 57, Loss: 0.0012890597572550178\n",
            "Epoch: 58, Loss: 0.0004102442180737853\n",
            "Epoch: 59, Loss: 0.0019839301239699125\n",
            "Epoch: 60, Loss: 0.0016038160538300872\n",
            "Epoch: 61, Loss: 0.0026979187969118357\n",
            "Epoch: 62, Loss: 0.0008546286844648421\n",
            "Epoch: 63, Loss: 0.0004408537643030286\n",
            "Epoch: 64, Loss: 0.001083620823919773\n",
            "Epoch: 65, Loss: 0.0007968235295265913\n",
            "Epoch: 66, Loss: 0.0009363204007968307\n",
            "Epoch: 67, Loss: 0.0005903880810365081\n",
            "Epoch: 68, Loss: 0.0008273148559965193\n",
            "Epoch: 69, Loss: 0.0009014119277708232\n",
            "Epoch: 70, Loss: 0.0003106700023636222\n",
            "Epoch: 71, Loss: 0.0004448589461389929\n",
            "Epoch: 72, Loss: 0.00016259317635558546\n",
            "Epoch: 73, Loss: 0.0010660565458238125\n",
            "Epoch: 74, Loss: 0.0005187616334296763\n",
            "Epoch: 75, Loss: 0.0008170136716216803\n",
            "Epoch: 76, Loss: 0.0013188958400860429\n",
            "Epoch: 77, Loss: 0.00045304326340556145\n",
            "Epoch: 78, Loss: 0.0006403625593520701\n",
            "Epoch: 79, Loss: 0.0003240089863538742\n",
            "Epoch: 80, Loss: 0.0007204964058473706\n",
            "Epoch: 81, Loss: 0.0006328515009954572\n",
            "Epoch: 82, Loss: 5.94615084992256e-05\n",
            "Epoch: 83, Loss: 3.744263085536659e-05\n",
            "Epoch: 84, Loss: 0.0006976319709792733\n",
            "Epoch: 85, Loss: 0.0010412648553028703\n",
            "Epoch: 86, Loss: 0.0003197165497113019\n",
            "Epoch: 87, Loss: 0.0003883744648192078\n",
            "Epoch: 88, Loss: 0.0003680373774841428\n",
            "Epoch: 89, Loss: 0.000499015673995018\n",
            "Epoch: 90, Loss: 0.0003033265529666096\n",
            "Epoch: 91, Loss: 0.00045422371476888657\n",
            "Epoch: 92, Loss: 0.0002464261488057673\n",
            "Epoch: 93, Loss: 0.00042551866499707103\n",
            "Epoch: 94, Loss: 0.000158161943545565\n",
            "Epoch: 95, Loss: 0.0004009286349173635\n",
            "Epoch: 96, Loss: 0.00032159825786948204\n",
            "Epoch: 97, Loss: 0.00017693833797238767\n",
            "Epoch: 98, Loss: 0.0003181344363838434\n",
            "Epoch: 99, Loss: 0.0003860550932586193\n"
          ],
          "name": "stdout"
        }
      ]
    },
    {
      "cell_type": "code",
      "metadata": {
        "id": "u-Iw7knnzsvX",
        "colab_type": "code",
        "outputId": "e7eba520-6b9e-4607-d11d-8606e7369e48",
        "colab": {
          "base_uri": "https://localhost:8080/",
          "height": 51
        }
      },
      "source": [
        "val_loader = torch.utils.data.DataLoader(validation_set, batch_size=64, shuffle=False)\n",
        "\n",
        "correct = 0\n",
        "total = 0\n",
        "\n",
        "with torch.no_grad():\n",
        "    for imgs, labels in val_loader:\n",
        "        outputs = model(imgs.view(imgs.shape[0], -1))\n",
        "        _, predicted = torch.max(outputs, dim=1)\n",
        "        total += labels.shape[0]\n",
        "\n",
        "        correct += int((predicted == labels).sum())\n",
        "        \n",
        "print('Correct:', correct, \"Total:\", total)\n",
        "print(\"Accuracy: {}\".format(correct / total))"
      ],
      "execution_count": 0,
      "outputs": [
        {
          "output_type": "stream",
          "text": [
            "Correct: 1715 Total: 2000\n",
            "Accuracy: 0.8575\n"
          ],
          "name": "stdout"
        }
      ]
    },
    {
      "cell_type": "code",
      "metadata": {
        "id": "sa7epRkh0BFp",
        "colab_type": "code",
        "outputId": "1f15e1c3-23d6-4f21-cc3d-bd635c5a558b",
        "colab": {
          "base_uri": "https://localhost:8080/",
          "height": 51
        }
      },
      "source": [
        "train_loader = torch.utils.data.DataLoader(data_set, batch_size=64, shuffle=False)\n",
        "\n",
        "correct = 0\n",
        "total = 0\n",
        "\n",
        "with torch.no_grad():\n",
        "    for imgs, labels in train_loader:\n",
        "        outputs = model(imgs.view(imgs.shape[0], -1))\n",
        "        _, predicted = torch.max(outputs, dim=1)\n",
        "        total += labels.shape[0]\n",
        "\n",
        "        correct += int((predicted == labels).sum())\n",
        "        \n",
        "print('Correct:', correct, \"Total:\", total)\n",
        "print(\"Accuracy: {}\".format(correct / total))"
      ],
      "execution_count": 0,
      "outputs": [
        {
          "output_type": "stream",
          "text": [
            "Correct: 10000 Total: 10000\n",
            "Accuracy: 1.0\n"
          ],
          "name": "stdout"
        }
      ]
    },
    {
      "cell_type": "code",
      "metadata": {
        "id": "lWltwRkQ0pz_",
        "colab_type": "code",
        "outputId": "ac2ef5c9-c1d0-413c-9257-9c7b16dfed7f",
        "colab": {
          "base_uri": "https://localhost:8080/",
          "height": 34
        }
      },
      "source": [
        "sum([p.numel() for p in model.parameters() if p.requires_grad == True])"
      ],
      "execution_count": 0,
      "outputs": [
        {
          "output_type": "execute_result",
          "data": {
            "text/plain": [
              "3737474"
            ]
          },
          "metadata": {
            "tags": []
          },
          "execution_count": 82
        }
      ]
    },
    {
      "cell_type": "code",
      "metadata": {
        "id": "ybzJh0ZD1cuC",
        "colab_type": "code",
        "outputId": "3b7bd62d-d3af-4726-9191-c66fa819bad5",
        "colab": {
          "base_uri": "https://localhost:8080/",
          "height": 34
        }
      },
      "source": [
        "[p.numel() for p in model.parameters() if p.requires_grad == True]"
      ],
      "execution_count": 0,
      "outputs": [
        {
          "output_type": "execute_result",
          "data": {
            "text/plain": [
              "[3145728, 1024, 524288, 512, 65536, 128, 256, 2]"
            ]
          },
          "metadata": {
            "tags": []
          },
          "execution_count": 84
        }
      ]
    },
    {
      "cell_type": "code",
      "metadata": {
        "id": "cGiFJLdZ1ssk",
        "colab_type": "code",
        "outputId": "3b42773c-7c44-4cf5-f87f-11f90a82680e",
        "colab": {
          "base_uri": "https://localhost:8080/",
          "height": 317
        }
      },
      "source": [
        "image = request.urlretrieve('https://i.pinimg.com/originals/43/bc/47/43bc47066bb8b2fa4fe7cc8e82cc3714.jpg','test,jpg')\n",
        "                            \n",
        "img = Image.open(image[0])\n",
        "\n",
        "preprocess = transforms.Compose([\n",
        "        transforms.Resize(48),\n",
        "        transforms.CenterCrop(32),\n",
        "        transforms.ToTensor(),\n",
        "        transforms.Normalize(\n",
        "            mean=[0.4915, 0.4823, 0.4468],\n",
        "            std=[0.2470, 0.2435, 0.2616]\n",
        "        )])\n",
        "\n",
        "img_t = preprocess(img)\n",
        "out = model(img_t.view(-1).unsqueeze(0))\n",
        "_, index = torch.max(out, dim=1)\n",
        "print('correct: car ',' model:',class_names[index])\n",
        "plt.imshow(img_t.permute(1, 2, 0))"
      ],
      "execution_count": 0,
      "outputs": [
        {
          "output_type": "stream",
          "text": [
            "Clipping input data to the valid range for imshow with RGB data ([0..1] for floats or [0..255] for integers).\n"
          ],
          "name": "stderr"
        },
        {
          "output_type": "stream",
          "text": [
            "correct: car   model: cat\n"
          ],
          "name": "stdout"
        },
        {
          "output_type": "execute_result",
          "data": {
            "text/plain": [
              "<matplotlib.image.AxesImage at 0x7fdb11925c88>"
            ]
          },
          "metadata": {
            "tags": []
          },
          "execution_count": 85
        },
        {
          "output_type": "display_data",
          "data": {
            "image/png": "[encoded data removed]",
            "text/plain": [
              "<Figure size 432x288 with 1 Axes>"
            ]
          },
          "metadata": {
            "tags": []
          }
        }
      ]
    },
    {
      "cell_type": "code",
      "metadata": {
        "id": "j2hTUc8V2bfY",
        "colab_type": "code",
        "colab": {}
      },
      "source": [
        ""
      ],
      "execution_count": 0,
      "outputs": []
    }
  ]
}