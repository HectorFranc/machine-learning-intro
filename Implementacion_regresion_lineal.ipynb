{
  "nbformat": 4,
  "nbformat_minor": 0,
  "metadata": {
    "colab": {
      "name": "Implementacion_regresion_lineal.ipynb",
      "provenance": [],
      "collapsed_sections": [
        "XDsw_4rVPUu5",
        "x2SNK2Kxsq7q"
      ]
    },
    "kernelspec": {
      "name": "python3",
      "display_name": "Python 3"
    }
  },
  "cells": [
    {
      "cell_type": "code",
      "metadata": {
        "id": "_xp7IjqlOjay",
        "colab_type": "code",
        "colab": {}
      },
      "source": [
        "import torch\n",
        "import numpy as np\n",
        "import torch.nn as nn\n",
        "import torch.optim as optim\n",
        "\n",
        "import matplotlib.pyplot as plt"
      ],
      "execution_count": 0,
      "outputs": []
    },
    {
      "cell_type": "markdown",
      "metadata": {
        "id": "XDsw_4rVPUu5",
        "colab_type": "text"
      },
      "source": [
        "# **Regresión lineal**\n",
        "---\n",
        "\n"
      ]
    },
    {
      "cell_type": "code",
      "metadata": {
        "id": "atJmFxgFPA9V",
        "colab_type": "code",
        "outputId": "86d137bb-0ebb-4d5f-cbbb-e8cd9fb13cd0",
        "colab": {
          "base_uri": "https://localhost:8080/",
          "height": 282
        }
      },
      "source": [
        "# Modelo a predecir\n",
        "car_prices = [5, 6, 7, 8, 9, 10]\n",
        "car_units_sold = [8.5, 8.0, 7.5, 7.0, 6.5, 6.0]\n",
        "\n",
        "plt.scatter(car_prices, car_units_sold)"
      ],
      "execution_count": 0,
      "outputs": [
        {
          "output_type": "execute_result",
          "data": {
            "text/plain": [
              "<matplotlib.collections.PathCollection at 0x7f4c6f789128>"
            ]
          },
          "metadata": {
            "tags": []
          },
          "execution_count": 3
        },
        {
          "output_type": "display_data",
          "data": {
            "image/png": "[encoded data removed]",
            "text/plain": [
              "<Figure size 432x288 with 1 Axes>"
            ]
          },
          "metadata": {
            "tags": []
          }
        }
      ]
    },
    {
      "cell_type": "code",
      "metadata": {
        "id": "BTIDRC_CP8US",
        "colab_type": "code",
        "outputId": "0fa67a91-40cc-452e-97f6-14cab2e88146",
        "colab": {
          "base_uri": "https://localhost:8080/",
          "height": 119
        }
      },
      "source": [
        "# Conversion a arreglos de numpy\n",
        "car_prices_array = np.array(car_prices).reshape(-1, 1)\n",
        "car_units_sold_array = np.array(car_units_sold).reshape(-1, 1)\n",
        "\n",
        "car_prices_array"
      ],
      "execution_count": 0,
      "outputs": [
        {
          "output_type": "execute_result",
          "data": {
            "text/plain": [
              "array([[ 5],\n",
              "       [ 6],\n",
              "       [ 7],\n",
              "       [ 8],\n",
              "       [ 9],\n",
              "       [10]])"
            ]
          },
          "metadata": {
            "tags": []
          },
          "execution_count": 35
        }
      ]
    },
    {
      "cell_type": "code",
      "metadata": {
        "id": "pvv4Qy2BQ0ZM",
        "colab_type": "code",
        "outputId": "f52c43fc-31ce-4ccc-d9d7-8fc0471f4b0b",
        "colab": {
          "base_uri": "https://localhost:8080/",
          "height": 119
        }
      },
      "source": [
        "# Conversion a tensores de pytorch\n",
        "car_prices_tensor = torch.from_numpy(car_prices_array).float()\n",
        "car_prices_tensor = car_prices_tensor.requires_grad_(True) # Requiere gradientes\n",
        "car_units_sold_tensor = torch.from_numpy(car_units_sold_array).float()\n",
        "\n",
        "car_prices_tensor, car_units_sold_tensor.shape"
      ],
      "execution_count": 0,
      "outputs": [
        {
          "output_type": "execute_result",
          "data": {
            "text/plain": [
              "(tensor([[ 5.],\n",
              "         [ 6.],\n",
              "         [ 7.],\n",
              "         [ 8.],\n",
              "         [ 9.],\n",
              "         [10.]], requires_grad=True), torch.Size([6, 1]))"
            ]
          },
          "metadata": {
            "tags": []
          },
          "execution_count": 46
        }
      ]
    },
    {
      "cell_type": "code",
      "metadata": {
        "id": "VHQtvxhQSDeU",
        "colab_type": "code",
        "outputId": "b5da8d10-5a02-4d4a-f2a2-73730a7711d3",
        "colab": {
          "base_uri": "https://localhost:8080/",
          "height": 299
        }
      },
      "source": [
        "# Definicion del modelo\n",
        "model = nn.Linear(1, 1)\n",
        "loss_function = nn.MSELoss()\n",
        "optimizer = optim.SGD(model.parameters(), lr=0.015)\n",
        "\n",
        "losses = []\n",
        "iterations = 20000\n",
        "\n",
        "# Training\n",
        "for i in range(iterations):\n",
        "  pred = model(car_prices_tensor)\n",
        "  loss = loss_function(pred, car_units_sold_tensor)\n",
        "  losses.append(loss)\n",
        "\n",
        "  optimizer.zero_grad()\n",
        "  loss.backward()\n",
        "  optimizer.step()\n",
        "\n",
        "print(float(loss))\n",
        "plt.plot(range(iterations), losses)"
      ],
      "execution_count": 0,
      "outputs": [
        {
          "output_type": "stream",
          "text": [
            "4.134297793001451e-09\n"
          ],
          "name": "stdout"
        },
        {
          "output_type": "execute_result",
          "data": {
            "text/plain": [
              "[<matplotlib.lines.Line2D at 0x7f4c6af50240>]"
            ]
          },
          "metadata": {
            "tags": []
          },
          "execution_count": 47
        },
        {
          "output_type": "display_data",
          "data": {
            "image/png": "[encoded data removed]",
            "text/plain": [
              "<Figure size 432x288 with 1 Axes>"
            ]
          },
          "metadata": {
            "tags": []
          }
        }
      ]
    },
    {
      "cell_type": "code",
      "metadata": {
        "id": "_9TwV0aBT-GW",
        "colab_type": "code",
        "outputId": "66faa99b-8116-41e2-e3e5-be4144d3b19a",
        "colab": {
          "base_uri": "https://localhost:8080/",
          "height": 34
        }
      },
      "source": [
        "# Prediccion con x = 4\n",
        "x = torch.tensor([4.0])\n",
        "y = model(x)\n",
        "print(y)"
      ],
      "execution_count": 0,
      "outputs": [
        {
          "output_type": "stream",
          "text": [
            "tensor([8.9999], grad_fn=<AddBackward0>)\n"
          ],
          "name": "stdout"
        }
      ]
    },
    {
      "cell_type": "markdown",
      "metadata": {
        "id": "x2SNK2Kxsq7q",
        "colab_type": "text"
      },
      "source": [
        "# **Otro ejemplo de regresión lineal**\n",
        "---"
      ]
    },
    {
      "cell_type": "code",
      "metadata": {
        "id": "IVrzI2LkYzoB",
        "colab_type": "code",
        "outputId": "52b483fa-8bb3-4044-f15c-f4e8804894b3",
        "colab": {
          "base_uri": "https://localhost:8080/",
          "height": 282
        }
      },
      "source": [
        "# data\n",
        "horas_estudio_tensor = torch.tensor([[1], [2], [3], [4]]).float()\n",
        "horas_estudio_tensor = horas_estudio_tensor.requires_grad_(True)\n",
        "calificacion_tensor = torch.tensor([[7], [8], [9], [10]]).float()\n",
        "\n",
        "plt.scatter([1, 2, 3, 4], [7, 8, 9, 10])"
      ],
      "execution_count": 0,
      "outputs": [
        {
          "output_type": "execute_result",
          "data": {
            "text/plain": [
              "<matplotlib.collections.PathCollection at 0x7f35acad93c8>"
            ]
          },
          "metadata": {
            "tags": []
          },
          "execution_count": 39
        },
        {
          "output_type": "display_data",
          "data": {
            "image/png": "[encoded data removed]",
            "text/plain": [
              "<Figure size 432x288 with 1 Axes>"
            ]
          },
          "metadata": {
            "tags": []
          }
        }
      ]
    },
    {
      "cell_type": "code",
      "metadata": {
        "id": "ORVPD0sbtLES",
        "colab_type": "code",
        "colab": {}
      },
      "source": [
        "model1 = nn.Linear(1, 1)\n",
        "loss_function1 = nn.MSELoss()\n",
        "optimizer1 = optim.SGD(model1.parameters(), lr=0.015)\n",
        "\n",
        "iterations1 = 20000\n",
        "\n",
        "for i in range(iterations1):\n",
        "  pred1 = model1(horas_estudio_tensor)\n",
        "  loss1 = loss_function1(pred1, calificacion_tensor)\n",
        "\n",
        "  optimizer1.zero_grad()\n",
        "  loss1.backward()\n",
        "  optimizer1.step()"
      ],
      "execution_count": 0,
      "outputs": []
    },
    {
      "cell_type": "code",
      "metadata": {
        "id": "i0gDQhLfuswn",
        "colab_type": "code",
        "outputId": "8e7512f5-0b61-4715-b039-b1c893b993e6",
        "colab": {
          "base_uri": "https://localhost:8080/",
          "height": 34
        }
      },
      "source": [
        "x = torch.tensor([[0.]])\n",
        "y = model1(x)\n",
        "print(float(y))"
      ],
      "execution_count": 0,
      "outputs": [
        {
          "output_type": "stream",
          "text": [
            "5.999949932098389\n"
          ],
          "name": "stdout"
        }
      ]
    },
    {
      "cell_type": "markdown",
      "metadata": {
        "id": "qtq0ynNlTVjF",
        "colab_type": "text"
      },
      "source": [
        "# **Regresión logística**\n",
        "\n",
        "---\n",
        "\n"
      ]
    },
    {
      "cell_type": "code",
      "metadata": {
        "id": "Vj2jJt4J0YR8",
        "colab_type": "code",
        "outputId": "3ae153ee-54e2-4ed8-bae6-8c3839aaea38",
        "colab": {
          "base_uri": "https://localhost:8080/",
          "height": 282
        }
      },
      "source": [
        "n = 100 # Numero de pares x, y en el dataset\n",
        "h = n // 2 # La mitad de los datos son de un grupo y los otros del otro\n",
        "dimen = 2 # Dimension 2 porque seran pares [x, y]\n",
        "\n",
        "data = np.random.randn(n, dimen) * 3 # n pares de numeros distruidos normalmente\n",
        "plt.scatter(data[:, 0], data[:, 1])"
      ],
      "execution_count": 0,
      "outputs": [
        {
          "output_type": "execute_result",
          "data": {
            "text/plain": [
              "<matplotlib.collections.PathCollection at 0x7f16b28ebac8>"
            ]
          },
          "metadata": {
            "tags": []
          },
          "execution_count": 21
        },
        {
          "output_type": "display_data",
          "data": {
            "image/png": "[encoded data removed]",
            "text/plain": [
              "<Figure size 432x288 with 1 Axes>"
            ]
          },
          "metadata": {
            "tags": []
          }
        }
      ]
    },
    {
      "cell_type": "code",
      "metadata": {
        "id": "PDdB-vaRZmRZ",
        "colab_type": "code",
        "colab": {}
      },
      "source": [
        "data[:h, :] = data[:h, :] - 3 * np.ones((h, dimen)) # La mitad centrado -3, -3\n",
        "data[h:, :] = data[h:,:] + 3 * np.ones((n - h, dimen)) # La otra en 3, 3"
      ],
      "execution_count": 0,
      "outputs": []
    },
    {
      "cell_type": "code",
      "metadata": {
        "id": "srygxr_oc1Ro",
        "colab_type": "code",
        "outputId": "7884089a-2ea4-42a5-cab4-20d41951bdbb",
        "colab": {
          "base_uri": "https://localhost:8080/",
          "height": 282
        }
      },
      "source": [
        "# Plot de los puntos\n",
        "colors = ['blue', 'red']\n",
        "color = [colors[0]] * h + [colors[1]] * (n - h)\n",
        "\n",
        "plt.axvline(x=0, color='gray')\n",
        "plt.axhline(y=0, color='gray')\n",
        "\n",
        "plt.axvline(x=-3, color='blue')\n",
        "plt.axhline(y=-3, color='blue')\n",
        "\n",
        "plt.axvline(x=3, color='red')\n",
        "plt.axhline(y=3, color='red')\n",
        "\n",
        "plt.scatter(data[:, 0], data[:, 1], c=color, s=75, alpha=0.5)"
      ],
      "execution_count": 0,
      "outputs": [
        {
          "output_type": "execute_result",
          "data": {
            "text/plain": [
              "<matplotlib.collections.PathCollection at 0x7f16b274f8d0>"
            ]
          },
          "metadata": {
            "tags": []
          },
          "execution_count": 26
        },
        {
          "output_type": "display_data",
          "data": {
            "image/png": "[encoded data removed]",
            "text/plain": [
              "<Figure size 432x288 with 1 Axes>"
            ]
          },
          "metadata": {
            "tags": []
          }
        }
      ]
    },
    {
      "cell_type": "code",
      "metadata": {
        "id": "sa_xGWuNfA2L",
        "colab_type": "code",
        "outputId": "3778a99f-f9ef-4f71-e5d6-91073ff576ea",
        "colab": {
          "base_uri": "https://localhost:8080/",
          "height": 34
        }
      },
      "source": [
        "# La primera mitad (puntos azules) seran 0 y la segunda (puntos rojos) seran 1\n",
        "target = np.array([0] * h + [1] * (n - h)).reshape(n, 1)\n",
        "target.shape"
      ],
      "execution_count": 0,
      "outputs": [
        {
          "output_type": "execute_result",
          "data": {
            "text/plain": [
              "(100, 1)"
            ]
          },
          "metadata": {
            "tags": []
          },
          "execution_count": 30
        }
      ]
    },
    {
      "cell_type": "code",
      "metadata": {
        "id": "M84wzJhvfeql",
        "colab_type": "code",
        "outputId": "1edc27b3-c1d3-4827-fe3f-e3e0b97f5275",
        "colab": {
          "base_uri": "https://localhost:8080/",
          "height": 34
        }
      },
      "source": [
        "# Definicion de tensores a usar en el modelo\n",
        "x = torch.from_numpy(data).float().requires_grad_(True)\n",
        "y = torch.from_numpy(target).float()\n",
        "x.shape, y.shape"
      ],
      "execution_count": 0,
      "outputs": [
        {
          "output_type": "execute_result",
          "data": {
            "text/plain": [
              "(torch.Size([100, 2]), torch.Size([100, 1]))"
            ]
          },
          "metadata": {
            "tags": []
          },
          "execution_count": 39
        }
      ]
    },
    {
      "cell_type": "code",
      "metadata": {
        "id": "UqYuMvW_hFEu",
        "colab_type": "code",
        "outputId": "d049e314-ee2b-4603-e7c1-d5f2bd714c91",
        "colab": {
          "base_uri": "https://localhost:8080/",
          "height": 299
        }
      },
      "source": [
        "# Definicion del modelo\n",
        "model = nn.Sequential(\n",
        "    nn.Linear(2, 1),\n",
        "    nn.Sigmoid()\n",
        ")\n",
        "loss_function = nn.BCELoss()\n",
        "optimizer = optim.SGD(model.parameters(), lr=0.015)\n",
        "\n",
        "iterations = 2000\n",
        "losses = []\n",
        "\n",
        "for i in range(iterations):\n",
        "  pred = model(x)\n",
        "  loss = loss_function(pred, y)\n",
        "  losses.append(loss)\n",
        "\n",
        "  optimizer.zero_grad()\n",
        "  loss.backward()\n",
        "  optimizer.step()\n",
        "\n",
        "print(float(loss))\n",
        "plt.plot(range(iterations), losses)"
      ],
      "execution_count": 0,
      "outputs": [
        {
          "output_type": "stream",
          "text": [
            "0.1831403374671936\n"
          ],
          "name": "stdout"
        },
        {
          "output_type": "execute_result",
          "data": {
            "text/plain": [
              "[<matplotlib.lines.Line2D at 0x7f16b1588ac8>]"
            ]
          },
          "metadata": {
            "tags": []
          },
          "execution_count": 40
        },
        {
          "output_type": "display_data",
          "data": {
            "image/png": "[encoded data removed]",
            "text/plain": [
              "<Figure size 432x288 with 1 Axes>"
            ]
          },
          "metadata": {
            "tags": []
          }
        }
      ]
    },
    {
      "cell_type": "code",
      "metadata": {
        "id": "ROoZAbH7jxRN",
        "colab_type": "code",
        "outputId": "dc8b6f2f-bce9-4a4c-f061-acce69296bcd",
        "colab": {
          "base_uri": "https://localhost:8080/",
          "height": 51
        }
      },
      "source": [
        "# Prueba del modelo\n",
        "input_blue = torch.tensor([[-5, -6]]).float()\n",
        "prediction_blue = model(input_blue).data[0][0] > 0.5\n",
        "print(colors[prediction_blue])\n",
        "\n",
        "input_red = torch.tensor([[6, 5]]).float()\n",
        "prediction_red = model(input_red).data[0][0] > 0.5\n",
        "print(colors[prediction_red])"
      ],
      "execution_count": 0,
      "outputs": [
        {
          "output_type": "stream",
          "text": [
            "blue\n",
            "red\n"
          ],
          "name": "stdout"
        }
      ]
    },
    {
      "cell_type": "code",
      "metadata": {
        "id": "WmecWH86lnBB",
        "colab_type": "code",
        "outputId": "5c19d253-6c2d-4002-ab82-bd7f845cb609",
        "colab": {
          "base_uri": "https://localhost:8080/",
          "height": 282
        }
      },
      "source": [
        "w = list(model.parameters())\n",
        "w0 = w[0].data.numpy()\n",
        "w1 = w[1].data.numpy()\n",
        "\n",
        "plt.scatter(data[:, 0], data[:, 1], c=color, s=75, alpha=0.6)\n",
        "\n",
        "x_axis = np.linspace(-10, 10, n)\n",
        "\n",
        "# Ecuacion para calcular la linea de division de las categorias segun los pesos\n",
        "y_axis = -(w1[0] + x_axis * w0[0][0]) / w0[0][1]\n",
        "\n",
        "plt.plot(x_axis, y_axis, 'g--')"
      ],
      "execution_count": 0,
      "outputs": [
        {
          "output_type": "execute_result",
          "data": {
            "text/plain": [
              "[<matplotlib.lines.Line2D at 0x7f16b10e8be0>]"
            ]
          },
          "metadata": {
            "tags": []
          },
          "execution_count": 73
        },
        {
          "output_type": "display_data",
          "data": {
            "image/png": "[encoded data removed]",
            "text/plain": [
              "<Figure size 432x288 with 1 Axes>"
            ]
          },
          "metadata": {
            "tags": []
          }
        }
      ]
    },
    {
      "cell_type": "code",
      "metadata": {
        "id": "RBfQznDTmh2u",
        "colab_type": "code",
        "colab": {}
      },
      "source": [
        ""
      ],
      "execution_count": 0,
      "outputs": []
    }
  ]
}